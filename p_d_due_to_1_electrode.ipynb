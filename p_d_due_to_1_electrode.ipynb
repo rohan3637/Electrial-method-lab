{
  "nbformat": 4,
  "nbformat_minor": 0,
  "metadata": {
    "colab": {
      "name": "p.d due to 1 electrode.ipynb",
      "provenance": []
    },
    "kernelspec": {
      "name": "python3",
      "display_name": "Python 3"
    }
  },
  "cells": [
    {
      "cell_type": "code",
      "metadata": {
        "id": "B-z_r4Ih1dTl",
        "colab_type": "code",
        "colab": {}
      },
      "source": [
        "#  ROHAN KUMAR\n",
        "# Roll number: 17EX20022"
      ],
      "execution_count": 1,
      "outputs": []
    },
    {
      "cell_type": "code",
      "metadata": {
        "id": "g-fpNgBg1jxY",
        "colab_type": "code",
        "colab": {}
      },
      "source": [
        "import numpy as np\n",
        "import matplotlib.pyplot as plt\n",
        "import math"
      ],
      "execution_count": 2,
      "outputs": []
    },
    {
      "cell_type": "code",
      "metadata": {
        "id": "FPle3PeP1jza",
        "colab_type": "code",
        "colab": {
          "base_uri": "https://localhost:8080/",
          "height": 51
        },
        "outputId": "ca1da98f-ed6c-4409-f528-73cd7cf00cfa"
      },
      "source": [
        "print('Calculating Electric Current due to 1 current Electrode')\n",
        "ip= float(input('Enter the Current value in Amperes: '))"
      ],
      "execution_count": 12,
      "outputs": [
        {
          "output_type": "stream",
          "text": [
            "Calculating Electric Current due to 1 current Electrode\n",
            "Enter the Current value in Amperes: 1\n"
          ],
          "name": "stdout"
        }
      ]
    },
    {
      "cell_type": "code",
      "metadata": {
        "id": "uonHOLJL1j5x",
        "colab_type": "code",
        "colab": {}
      },
      "source": [
        "Vxy=[]       # List of Potential at point P all across whole 2D Space x-y\n",
        "Vxz=[]       # List of Potential at point P all across whole 2D Space x-z\n",
        "xlist= np.arange(-100, 101, 5)\n",
        "ylist= np.arange(-100, 101, 5)\n",
        "zlist= np.arange(-100,1, 5)"
      ],
      "execution_count": 13,
      "outputs": []
    },
    {
      "cell_type": "code",
      "metadata": {
        "id": "fQLcAmsF1j--",
        "colab_type": "code",
        "colab": {
          "base_uri": "https://localhost:8080/",
          "height": 51
        },
        "outputId": "9f3b2075-2c2e-4218-f2c3-bc005f1fddfd"
      },
      "source": [
        "for x in xlist:\n",
        "  for y in ylist:\n",
        "    V= (100*ip)/(2*np.pi* np.sqrt(x**2+y**2))\n",
        "    Vxy = np.append(Vxy, V)\n",
        "Vxy= Vxy.reshape(len(xlist),len(ylist))"
      ],
      "execution_count": 14,
      "outputs": [
        {
          "output_type": "stream",
          "text": [
            "/usr/local/lib/python3.6/dist-packages/ipykernel_launcher.py:3: RuntimeWarning: divide by zero encountered in double_scalars\n",
            "  This is separate from the ipykernel package so we can avoid doing imports until\n"
          ],
          "name": "stderr"
        }
      ]
    },
    {
      "cell_type": "code",
      "metadata": {
        "id": "SIhFkDh01kD3",
        "colab_type": "code",
        "colab": {
          "base_uri": "https://localhost:8080/",
          "height": 295
        },
        "outputId": "db3f5e18-c243-4e24-e11c-59288c68b86e"
      },
      "source": [
        "# Plotting the contours\n",
        "X, Y = np.meshgrid(xlist, ylist)\n",
        "fig, ax= plt.subplots(nrows= 1, ncols= 1)\n",
        "cp = ax.contourf(X,Y,Vxy)\n",
        "fig.colorbar(cp) # Adding colorbar to the plot\n",
        "ax.set_title('Contour Plot for 1 current electrode on horizontal')\n",
        "ax.set_xlabel('X')\n",
        "ax.set_ylabel('Y')\n",
        "plt.show()"
      ],
      "execution_count": 15,
      "outputs": [
        {
          "output_type": "display_data",
          "data": {
            "image/png": "[encoded data removed]",
            "text/plain": [
              "<Figure size 432x288 with 2 Axes>"
            ]
          },
          "metadata": {
            "tags": [],
            "needs_background": "light"
          }
        }
      ]
    },
    {
      "cell_type": "code",
      "metadata": {
        "id": "cRhDZ3jV1kGX",
        "colab_type": "code",
        "colab": {
          "base_uri": "https://localhost:8080/",
          "height": 51
        },
        "outputId": "89b5f9e0-955b-4003-ed1b-6593a5a92b6d"
      },
      "source": [
        "for x in xlist:\n",
        "  for z in zlist:\n",
        "    V= (100*ip)/(2*np.pi* np.sqrt(x** 2+ z**2))\n",
        "    Vxz = np.append(Vxz, V)"
      ],
      "execution_count": 16,
      "outputs": [
        {
          "output_type": "stream",
          "text": [
            "/usr/local/lib/python3.6/dist-packages/ipykernel_launcher.py:3: RuntimeWarning: divide by zero encountered in double_scalars\n",
            "  This is separate from the ipykernel package so we can avoid doing imports until\n"
          ],
          "name": "stderr"
        }
      ]
    },
    {
      "cell_type": "code",
      "metadata": {
        "id": "K878nGSG1kJk",
        "colab_type": "code",
        "colab": {
          "base_uri": "https://localhost:8080/",
          "height": 34
        },
        "outputId": "b3a610cb-5cf6-4705-d0eb-a3a7291c5b6f"
      },
      "source": [
        "Vxz = Vxz.reshape(len(xlist), len(zlist))\n",
        "print(np.shape(Vxz))"
      ],
      "execution_count": 18,
      "outputs": [
        {
          "output_type": "stream",
          "text": [
            "(41, 21)\n"
          ],
          "name": "stdout"
        }
      ]
    },
    {
      "cell_type": "code",
      "metadata": {
        "id": "achvDBS01j99",
        "colab_type": "code",
        "colab": {
          "base_uri": "https://localhost:8080/",
          "height": 295
        },
        "outputId": "3e540419-4f9a-401a-f5c3-b326dcadc0ea"
      },
      "source": [
        "# Plotting the contours\n",
        "Z,X = np.meshgrid(zlist, xlist)\n",
        "fig, ax= plt.subplots(1,1)\n",
        "cp = ax.contourf(X,Z, Vxz)\n",
        "fig.colorbar(cp) # Adding colorbar to the plot\n",
        "ax.set_title('Contour Plot for 1 current electrode with depth')\n",
        "ax.set_xlabel('X')\n",
        "ax.set_ylabel('Z')\n",
        "plt.show()\n"
      ],
      "execution_count": 19,
      "outputs": [
        {
          "output_type": "display_data",
          "data": {
            "image/png": "[encoded data removed]",
            "text/plain": [
              "<Figure size 432x288 with 2 Axes>"
            ]
          },
          "metadata": {
            "tags": [],
            "needs_background": "light"
          }
        }
      ]
    },
    {
      "cell_type": "code",
      "metadata": {
        "id": "QZc4hUSx1j3g",
        "colab_type": "code",
        "colab": {}
      },
      "source": [
        ""
      ],
      "execution_count": null,
      "outputs": []
    }
  ]
}