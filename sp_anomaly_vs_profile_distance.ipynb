{
  "nbformat": 4,
  "nbformat_minor": 0,
  "metadata": {
    "colab": {
      "name": "sp anomaly vs profile distance.ipynb",
      "provenance": []
    },
    "kernelspec": {
      "name": "python3",
      "display_name": "Python 3"
    }
  },
  "cells": [
    {
      "cell_type": "code",
      "metadata": {
        "id": "pYdGcm8CCUT9",
        "colab_type": "code",
        "colab": {}
      },
      "source": [
        "#  ROHAN KUMAR\n",
        "# Roll number: 17EX20022"
      ],
      "execution_count": 1,
      "outputs": []
    },
    {
      "cell_type": "code",
      "metadata": {
        "id": "-pCEqNUDCg76",
        "colab_type": "code",
        "colab": {}
      },
      "source": [
        "import numpy as np\n",
        "import matplotlib.pyplot as plt\n",
        "import math"
      ],
      "execution_count": 2,
      "outputs": []
    },
    {
      "cell_type": "code",
      "metadata": {
        "id": "a7kQNUbVChAO",
        "colab_type": "code",
        "colab": {
          "base_uri": "https://localhost:8080/",
          "height": 119
        },
        "outputId": "07dcf761-ea3d-496c-838a-805d95c6c867"
      },
      "source": [
        "print('Enter different parameter values:')\n",
        "k= float(input('Enter qualitative dipole moment in mV:'))\n",
        "h=float(input('Enter depth to the centre of sheet from the surface in m:'))\n",
        "a=float(input('Enter one-half of the length of the sheet in m:'))\n",
        "alpha=float(input('Enter angle between sheet and horizontal in degree:'))\n",
        "x0=float(input('Enter the value of x0:'))"
      ],
      "execution_count": 21,
      "outputs": [
        {
          "output_type": "stream",
          "text": [
            "Enter different parameter values:\n",
            "Enter qualitative dipole moment in mV:50\n",
            "Enter depth to the centre of sheet from the surface in m:50\n",
            "Enter one-half of the length of the sheet in m:40\n",
            "Enter angle between sheet and horizontal in degree:0\n",
            "Enter the value of x0:400\n"
          ],
          "name": "stdout"
        }
      ]
    },
    {
      "cell_type": "code",
      "metadata": {
        "id": "DHhYKWDTChC8",
        "colab_type": "code",
        "colab": {}
      },
      "source": [
        "sp=[]       # List of sp anomaly over a sheet type structure\n",
        "xlist= np.arange(0, 1000, 10)"
      ],
      "execution_count": 4,
      "outputs": []
    },
    {
      "cell_type": "code",
      "metadata": {
        "id": "liCoQiipChJG",
        "colab_type": "code",
        "colab": {}
      },
      "source": [
        "for x in xlist:\n",
        "    V= k*np.log((((x-x0)-a*np.cos(alpha*np.pi/180))**2+(h-a*np.sin(alpha*np.pi/180))**2)/(((x-x0)+a*np.cos(alpha*np.pi/180))**2+(h+a*np.sin(alpha*np.pi/180))**2))\n",
        "    sp = np.append(sp, V)\n",
        "sp= sp.reshape(len(xlist))"
      ],
      "execution_count": 7,
      "outputs": []
    },
    {
      "cell_type": "code",
      "metadata": {
        "id": "Rlfybfq8ChNN",
        "colab_type": "code",
        "colab": {
          "base_uri": "https://localhost:8080/",
          "height": 442
        },
        "outputId": "05157637-478f-4d7c-bd7c-b1b21820f00b"
      },
      "source": [
        "sp"
      ],
      "execution_count": 14,
      "outputs": [
        {
          "output_type": "execute_result",
          "data": {
            "text/plain": [
              "array([  15.79914657,   16.15706198,   16.53088619,   16.92163538,\n",
              "         17.33040435,   17.75837233,   18.20680883,   18.67707919,\n",
              "         19.17064967,   19.68909132,   20.23408217,   20.80740638,\n",
              "         21.41094901,   22.04668394,   22.71665179,   23.42292293,\n",
              "         24.16753874,   24.95242076,   25.7792331 ,   26.64917593,\n",
              "         27.5626779 ,   28.51893939,   29.51525531,   30.54601125,\n",
              "         31.60119534,   32.66419302,   33.70852686,   34.69306435,\n",
              "         35.55505774,   36.20026053,   36.4894526 ,   36.22138183,\n",
              "         35.11408415,   32.79060638,   28.7811995 ,   22.55837655,\n",
              "         13.61475337,    1.5693482 ,  -13.73821352,  -32.19103601,\n",
              "        -53.31757132,  -76.01200981,  -97.83818982, -114.38074142,\n",
              "       -121.12928855, -118.14051839, -109.75028618,  -99.87827628,\n",
              "        -90.42051996,  -81.9929288 ,  -74.67497632,  -68.36549242,\n",
              "        -62.92057559,  -58.20128432,  -54.08738266,  -50.47902924,\n",
              "        -47.29460655,  -44.46767748,  -41.94409256,  -39.6795384 ,\n",
              "        -37.63755423,  -35.78795902,  -34.10561382,  -32.56944915,\n",
              "        -31.1616991 ,  -29.86729586,  -28.67338855,  -27.56895881,\n",
              "        -26.54451181,  -25.5918265 ,  -24.70375246,  -23.87404385,\n",
              "        -23.09722281,  -22.36846653,  -21.68351347,  -21.038585  ,\n",
              "        -20.43031965,  -19.85571775,  -19.3120945 ,  -18.79704019,\n",
              "        -18.30838611,  -17.84417548,  -17.4026384 ,  -16.98217026,\n",
              "        -16.581313  ,  -16.19873893,  -15.83323659,  -15.48369835,\n",
              "        -15.14910965,  -14.82853947,  -14.52113197,  -14.22609907,\n",
              "        -13.94271397,  -13.67030531,  -13.40825202,  -13.15597871,\n",
              "        -12.9129516 ,  -12.67867482,  -12.45268715,  -12.23455902])"
            ]
          },
          "metadata": {
            "tags": []
          },
          "execution_count": 14
        }
      ]
    },
    {
      "cell_type": "code",
      "metadata": {
        "id": "HF6TKF_jMR69",
        "colab_type": "code",
        "colab": {
          "base_uri": "https://localhost:8080/",
          "height": 359
        },
        "outputId": "7c5100ea-3671-4283-cf80-2430cc248296"
      },
      "source": [
        "import pandas as pd\n",
        "df=pd.DataFrame(sp,xlist)\n",
        "df.columns=['SP Anomaly']\n",
        "df.head(10)"
      ],
      "execution_count": 20,
      "outputs": [
        {
          "output_type": "execute_result",
          "data": {
            "text/html": [
              "<div>\n",
              "<style scoped>\n",
              "    .dataframe tbody tr th:only-of-type {\n",
              "        vertical-align: middle;\n",
              "    }\n",
              "\n",
              "    .dataframe tbody tr th {\n",
              "        vertical-align: top;\n",
              "    }\n",
              "\n",
              "    .dataframe thead th {\n",
              "        text-align: right;\n",
              "    }\n",
              "</style>\n",
              "<table border=\"1\" class=\"dataframe\">\n",
              "  <thead>\n",
              "    <tr style=\"text-align: right;\">\n",
              "      <th></th>\n",
              "      <th>SP Anomaly</th>\n",
              "    </tr>\n",
              "  </thead>\n",
              "  <tbody>\n",
              "    <tr>\n",
              "      <th>0</th>\n",
              "      <td>15.799147</td>\n",
              "    </tr>\n",
              "    <tr>\n",
              "      <th>10</th>\n",
              "      <td>16.157062</td>\n",
              "    </tr>\n",
              "    <tr>\n",
              "      <th>20</th>\n",
              "      <td>16.530886</td>\n",
              "    </tr>\n",
              "    <tr>\n",
              "      <th>30</th>\n",
              "      <td>16.921635</td>\n",
              "    </tr>\n",
              "    <tr>\n",
              "      <th>40</th>\n",
              "      <td>17.330404</td>\n",
              "    </tr>\n",
              "    <tr>\n",
              "      <th>50</th>\n",
              "      <td>17.758372</td>\n",
              "    </tr>\n",
              "    <tr>\n",
              "      <th>60</th>\n",
              "      <td>18.206809</td>\n",
              "    </tr>\n",
              "    <tr>\n",
              "      <th>70</th>\n",
              "      <td>18.677079</td>\n",
              "    </tr>\n",
              "    <tr>\n",
              "      <th>80</th>\n",
              "      <td>19.170650</td>\n",
              "    </tr>\n",
              "    <tr>\n",
              "      <th>90</th>\n",
              "      <td>19.689091</td>\n",
              "    </tr>\n",
              "  </tbody>\n",
              "</table>\n",
              "</div>"
            ],
            "text/plain": [
              "    SP Anomaly\n",
              "0    15.799147\n",
              "10   16.157062\n",
              "20   16.530886\n",
              "30   16.921635\n",
              "40   17.330404\n",
              "50   17.758372\n",
              "60   18.206809\n",
              "70   18.677079\n",
              "80   19.170650\n",
              "90   19.689091"
            ]
          },
          "metadata": {
            "tags": []
          },
          "execution_count": 20
        }
      ]
    },
    {
      "cell_type": "code",
      "metadata": {
        "id": "Fa0gbRPtChHA",
        "colab_type": "code",
        "colab": {
          "base_uri": "https://localhost:8080/",
          "height": 295
        },
        "outputId": "c939e3a0-69f5-40b2-de53-b7390f8c602d"
      },
      "source": [
        "plt.plot(xlist,sp,color='red')\n",
        "plt.xlabel('profile distance in m')\n",
        "plt.ylabel('SP anomaly')\n",
        "plt.title('SP anomaly v/s profile distance')\n",
        "plt.savefig('plot.png')"
      ],
      "execution_count": 31,
      "outputs": [
        {
          "output_type": "display_data",
          "data": {
            "image/png": "[encoded data removed]",
            "text/plain": [
              "<Figure size 432x288 with 1 Axes>"
            ]
          },
          "metadata": {
            "tags": [],
            "needs_background": "light"
          }
        }
      ]
    },
    {
      "cell_type": "code",
      "metadata": {
        "id": "eiZ8Z7PvCg6Q",
        "colab_type": "code",
        "colab": {
          "base_uri": "https://localhost:8080/",
          "height": 17
        },
        "outputId": "bc4ce468-5351-40f9-cb91-ecda4b88fbb3"
      },
      "source": [
        "from google.colab import files\n",
        "files.download('plot.png')"
      ],
      "execution_count": 30,
      "outputs": [
        {
          "output_type": "display_data",
          "data": {
            "application/javascript": [
              "\n",
              "    async function download(id, filename, size) {\n",
              "      if (!google.colab.kernel.accessAllowed) {\n",
              "        return;\n",
              "      }\n",
              "      const div = document.createElement('div');\n",
              "      const label = document.createElement('label');\n",
              "      label.textContent = `Downloading \"${filename}\": `;\n",
              "      div.appendChild(label);\n",
              "      const progress = document.createElement('progress');\n",
              "      progress.max = size;\n",
              "      div.appendChild(progress);\n",
              "      document.body.appendChild(div);\n",
              "\n",
              "      const buffers = [];\n",
              "      let downloaded = 0;\n",
              "\n",
              "      const channel = await google.colab.kernel.comms.open(id);\n",
              "      // Send a message to notify the kernel that we're ready.\n",
              "      channel.send({})\n",
              "\n",
              "      for await (const message of channel.messages) {\n",
              "        // Send a message to notify the kernel that we're ready.\n",
              "        channel.send({})\n",
              "        if (message.buffers) {\n",
              "          for (const buffer of message.buffers) {\n",
              "            buffers.push(buffer);\n",
              "            downloaded += buffer.byteLength;\n",
              "            progress.value = downloaded;\n",
              "          }\n",
              "        }\n",
              "      }\n",
              "      const blob = new Blob(buffers, {type: 'application/binary'});\n",
              "      const a = document.createElement('a');\n",
              "      a.href = window.URL.createObjectURL(blob);\n",
              "      a.download = filename;\n",
              "      div.appendChild(a);\n",
              "      a.click();\n",
              "      div.remove();\n",
              "    }\n",
              "  "
            ],
            "text/plain": [
              "<IPython.core.display.Javascript object>"
            ]
          },
          "metadata": {
            "tags": []
          }
        },
        {
          "output_type": "display_data",
          "data": {
            "application/javascript": [
              "download(\"download_9ed34f5a-36b9-4340-abb7-813addb682d3\", \"plot.png\", 16582)"
            ],
            "text/plain": [
              "<IPython.core.display.Javascript object>"
            ]
          },
          "metadata": {
            "tags": []
          }
        }
      ]
    }
  ]
}