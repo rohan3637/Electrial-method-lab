{
  "nbformat": 4,
  "nbformat_minor": 0,
  "metadata": {
    "colab": {
      "name": "p.d due to 2 electrode.ipynb",
      "provenance": []
    },
    "kernelspec": {
      "name": "python3",
      "display_name": "Python 3"
    }
  },
  "cells": [
    {
      "cell_type": "code",
      "metadata": {
        "id": "xRqZ9kTWzEzF",
        "colab_type": "code",
        "colab": {}
      },
      "source": [
        "#  ROHAN KUMAR\n",
        "# Roll number: 17EX20022"
      ],
      "execution_count": null,
      "outputs": []
    },
    {
      "cell_type": "code",
      "metadata": {
        "id": "ZSRd5q2PzaqT",
        "colab_type": "code",
        "colab": {}
      },
      "source": [
        "import numpy as np\n",
        "import matplotlib.pyplot as plt\n",
        "%matplotlib inline"
      ],
      "execution_count": 1,
      "outputs": []
    },
    {
      "cell_type": "code",
      "metadata": {
        "id": "66ge5TH8zbFd",
        "colab_type": "code",
        "colab": {
          "base_uri": "https://localhost:8080/",
          "height": 51
        },
        "outputId": "7edbdc95-8a58-4152-9a77-715e1db74210"
      },
      "source": [
        "print('Calculating Electric Current due to 1 current Electrode')\n",
        "ip= float(input('Enter the Current value in Amperes: '))"
      ],
      "execution_count": 11,
      "outputs": [
        {
          "output_type": "stream",
          "text": [
            "Calculating Electric Current due to 1 current Electrode\n",
            "Enter the Current value in Amperes: 1\n"
          ],
          "name": "stdout"
        }
      ]
    },
    {
      "cell_type": "code",
      "metadata": {
        "id": "A-G4xiROzbHM",
        "colab_type": "code",
        "colab": {}
      },
      "source": [
        "Vxy=[]       # List of Potential at point P all across whole 2D Space x-y\n",
        "Vxz=[]       # List of Potential at point P all across whole 2D Space x-z\n",
        "xlist= np.arange(-100, 101, 5)\n",
        "ylist= np.arange(-100, 101, 5)\n",
        "zlist= np.arange(-100,1, 5)"
      ],
      "execution_count": 12,
      "outputs": []
    },
    {
      "cell_type": "code",
      "metadata": {
        "id": "zpfCXyNtzbLJ",
        "colab_type": "code",
        "colab": {
          "base_uri": "https://localhost:8080/",
          "height": 51
        },
        "outputId": "7df56b37-1b24-45aa-e493-e516f2d5b0f8"
      },
      "source": [
        "for x in xlist:\n",
        "  for y in ylist:\n",
        "    V= ((100*ip)/(2*np.pi)) * ((1/np.sqrt((x+30)**2+y**2))-(1/np.sqrt((x-30)**2+y**2)))\n",
        "    Vxy = np.append(Vxy, V)\n",
        "Vxy= Vxy.reshape(len(xlist),len(ylist))\n"
      ],
      "execution_count": 13,
      "outputs": [
        {
          "output_type": "stream",
          "text": [
            "/usr/local/lib/python3.6/dist-packages/ipykernel_launcher.py:3: RuntimeWarning: divide by zero encountered in double_scalars\n",
            "  This is separate from the ipykernel package so we can avoid doing imports until\n"
          ],
          "name": "stderr"
        }
      ]
    },
    {
      "cell_type": "code",
      "metadata": {
        "id": "lDqdWp-Iz-Ni",
        "colab_type": "code",
        "colab": {
          "base_uri": "https://localhost:8080/",
          "height": 295
        },
        "outputId": "4a41506c-764a-4b40-cbe0-3ca1b5bc7384"
      },
      "source": [
        "# Plotting the contours\n",
        "X, Y = np.meshgrid(xlist, ylist)\n",
        "fig, ax= plt.subplots(nrows= 1, ncols= 1)\n",
        "cp = ax.contourf(Y,X,Vxy)\n",
        "fig.colorbar(cp) # Adding colorbar to the plot\n",
        "ax.set_title('Contour Plot for 2 current electrodes on horizontal')\n",
        "ax.set_xlabel('X')\n",
        "ax.set_ylabel('Y')\n",
        "plt.show()"
      ],
      "execution_count": 14,
      "outputs": [
        {
          "output_type": "display_data",
          "data": {
            "image/png": "[encoded data removed]",
            "text/plain": [
              "<Figure size 432x288 with 2 Axes>"
            ]
          },
          "metadata": {
            "tags": [],
            "needs_background": "light"
          }
        }
      ]
    },
    {
      "cell_type": "code",
      "metadata": {
        "id": "cLANsJrPz-QO",
        "colab_type": "code",
        "colab": {
          "base_uri": "https://localhost:8080/",
          "height": 51
        },
        "outputId": "499adb76-ca6a-4bf4-d6a2-b4d1ba331bd4"
      },
      "source": [
        "for x in xlist:\n",
        "  for z in zlist:\n",
        "    V= ((100*ip)/(2*np.pi)) * ((1/np.sqrt((x+30)**2 +z**2))-(1/np.sqrt((x-30)**2+ z**2)))\n",
        "    Vxz = np.append(Vxz, V)"
      ],
      "execution_count": 15,
      "outputs": [
        {
          "output_type": "stream",
          "text": [
            "/usr/local/lib/python3.6/dist-packages/ipykernel_launcher.py:3: RuntimeWarning: divide by zero encountered in double_scalars\n",
            "  This is separate from the ipykernel package so we can avoid doing imports until\n"
          ],
          "name": "stderr"
        }
      ]
    },
    {
      "cell_type": "code",
      "metadata": {
        "id": "DuPEtYdYz-UZ",
        "colab_type": "code",
        "colab": {
          "base_uri": "https://localhost:8080/",
          "height": 34
        },
        "outputId": "ea49dee2-7151-49ca-f7b2-f4cfcb6af1f4"
      },
      "source": [
        "Vxz= Vxz.reshape(len(xlist), len(zlist))\n",
        "print(np.shape(Vxz))"
      ],
      "execution_count": 16,
      "outputs": [
        {
          "output_type": "stream",
          "text": [
            "(41, 21)\n"
          ],
          "name": "stdout"
        }
      ]
    },
    {
      "cell_type": "code",
      "metadata": {
        "id": "2yEePIfIz-X5",
        "colab_type": "code",
        "colab": {
          "base_uri": "https://localhost:8080/",
          "height": 295
        },
        "outputId": "df8d4563-8899-47c2-bede-133578088cef"
      },
      "source": [
        "# Plotting the contours\n",
        "Z,X = np.meshgrid(zlist, xlist)\n",
        "fig, ax= plt.subplots(1)\n",
        "cp = ax.contourf(X,Z, Vxz)\n",
        "fig.colorbar(cp) # Adding colorbar to the plot\n",
        "ax.set_title('Contour Plot for 2 current electrodes with depth')\n",
        "ax.set_xlabel('X')\n",
        "ax.set_ylabel('Z')\n",
        "plt.show()"
      ],
      "execution_count": 17,
      "outputs": [
        {
          "output_type": "display_data",
          "data": {
            "image/png": "[encoded data removed]",
            "text/plain": [
              "<Figure size 432x288 with 2 Axes>"
            ]
          },
          "metadata": {
            "tags": [],
            "needs_background": "light"
          }
        }
      ]
    }
  ]
}